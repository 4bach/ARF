{
 "cells": [
  {
   "cell_type": "markdown",
   "metadata": {},
   "source": [
    "# Algorithme de descente de gradient"
   ]
  },
  {
   "cell_type": "markdown",
   "metadata": {},
   "source": [
    "## Optimisation de fonctions"
   ]
  },
  {
   "cell_type": "code",
   "execution_count": 25,
   "metadata": {},
   "outputs": [],
   "source": [
    "%matplotlib inline\n",
    "import numpy as np\n",
    "from numpy import random\n",
    "import matplotlib.pyplot as plt\n",
    "from matplotlib import cm\n",
    "from mpl_toolkits.mplot3d import Axes3D\n",
    "\n",
    "def make_grid(xmin=-5,xmax=5,ymin=-5,ymax=5,step=20,data=None):\n",
    "    \"\"\" Cree une grille sous forme de matrice 2d de la liste des points\n",
    "    :return: une matrice 2d contenant les points de la grille, la liste x, la liste y\n",
    "    \"\"\"\n",
    "    if data is not None:\n",
    "        xmax,xmin,ymax,ymin = np.max(data[:,0]),np.min(data[:,0]),\\\n",
    "                              np.max(data[:,1]),np.min(data[:,1])\n",
    "    x,y = np.meshgrid(np.arange(xmin,xmax,(xmax-xmin)*1./step),\n",
    "                      np.arange(ymin,ymax,(ymax-ymin)*1./step))\n",
    "    grid=np.c_[x.ravel(),y.ravel()]\n",
    "    return grid, x, y\n",
    "\n",
    "def load_usps(filename):\n",
    "    with open(filename,\"r\") as f:\n",
    "        f.readline()\n",
    "        data =[ [float(x) for x in l.split()] for l in f if len(l.split())>2]\n",
    "    tmp = np.array(data)\n",
    "    return tmp[:,1:],tmp[:,0].astype(int)\n",
    "\n",
    "\n"
   ]
  },
  {
   "cell_type": "code",
   "execution_count": 26,
   "metadata": {},
   "outputs": [],
   "source": [
    "def optimise(fonc,dfonc,xinit, eps,max_iter):\n",
    "    \"\"\" Implémentation de l'algorithme de descente de gradient\n",
    "    fonc -> la fonction à optimiser.\n",
    "    dfonc -> le gradient de cette fonction\n",
    "    xinit -> le point initial\n",
    "    eps -> Le pas de gradient \n",
    "    max_iter -> Le nombre d'itérations.\n",
    "    return : triplet (x_histo,f_histo,grad_histo) respectivement la liste des points xt, f(xt), gradient(f(xt)) \n",
    "    \"\"\"\n",
    "    \n",
    "    \n",
    "    \n",
    "    X = [xinit]\n",
    "    fX = [fonc(xinit)]\n",
    "    dfX = [dfonc(xinit)]\n",
    "    for i in range(max_iter):\n",
    "        xinit = xinit - eps*dfonc(xinit)\n",
    "        X.append(xinit)\n",
    "        fX.append(fonc(xinit))\n",
    "        dfX.append(dfonc(xinit))\n",
    "    \n",
    "    return np.array(X),np.array(fX),np.array(dfX)\n",
    "\n",
    "\n",
    "def xcosx(x):\n",
    "    return x*np.cos(x)\n",
    "\n",
    "def dxcosx(x):\n",
    "    return np.cos(x) - x*np.sin(x)\n",
    "\n",
    "def logx(x):\n",
    "    return -np.log(x) + x**2\n",
    "\n",
    "def dlogx(x):\n",
    "    return (-1/x) + 2*x\n",
    "\n",
    "def rosenBrock(x1,x2):\n",
    "    return 100*(x2-x1**2)**2 +(1 - x1)**2\n",
    "\n",
    "def drosenBrock(x1,x2):\n",
    "    \n",
    "    return -400*x1*(x2-x1**2)-2*(1-x1),200*(x2-x1**2)\n",
    "\n"
   ]
  },
  {
   "cell_type": "markdown",
   "metadata": {},
   "source": [
    "## Affichage 2D  "
   ]
  },
  {
   "cell_type": "code",
   "execution_count": 27,
   "metadata": {},
   "outputs": [],
   "source": [
    "def affiche1(fonc,dfonc,xinit,eps,max_iter):\n",
    "    \"\"\"Affiche en fonction du nombre d'itérations les valeurs de fX et du gradient de f.\"\"\"\n",
    "    \n",
    "    absi = [i for i in range(max_iter+1)]\n",
    "    X,fX,dfX = optimise(fonc,dfonc,xinit,eps,max_iter)\n",
    "    plt.plot(absi,fX,'r',absi,dfX,'b')\n",
    "    plt.show()\n",
    "    #plt.close()\n"
   ]
  },
  {
   "cell_type": "code",
   "execution_count": 28,
   "metadata": {},
   "outputs": [
    {
     "data": {
      "image/png": "[encoded data removed]",
      "text/plain": [
       "<Figure size 432x288 with 1 Axes>"
      ]
     },
     "metadata": {
      "needs_background": "light"
     },
     "output_type": "display_data"
    }
   ],
   "source": [
    "affiche1(xcosx,dxcosx,0,0.01,100)\n"
   ]
  },
  {
   "cell_type": "code",
   "execution_count": 29,
   "metadata": {},
   "outputs": [
    {
     "data": {
      "image/png": "[encoded data removed]",
      "text/plain": [
       "<Figure size 432x288 with 1 Axes>"
      ]
     },
     "metadata": {
      "needs_background": "light"
     },
     "output_type": "display_data"
    }
   ],
   "source": [
    "affiche1(logx,dlogx,1,0.01,100)"
   ]
  },
  {
   "cell_type": "code",
   "execution_count": null,
   "metadata": {},
   "outputs": [],
   "source": []
  }
 ],
 "metadata": {
  "kernelspec": {
   "display_name": "Python 3",
   "language": "python",
   "name": "python3"
  },
  "language_info": {
   "codemirror_mode": {
    "name": "ipython",
    "version": 3
   },
   "file_extension": ".py",
   "mimetype": "text/x-python",
   "name": "python",
   "nbconvert_exporter": "python",
   "pygments_lexer": "ipython3",
   "version": "3.6.8"
  }
 },
 "nbformat": 4,
 "nbformat_minor": 2
}
